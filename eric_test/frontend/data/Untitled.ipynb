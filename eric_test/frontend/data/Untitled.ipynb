{
 "cells": [
  {
   "cell_type": "code",
   "execution_count": 1,
   "id": "08db7428",
   "metadata": {},
   "outputs": [
    {
     "data": {
      "text/plain": [
       "'const cuisineColorMap = {\\n    \"American\": \"rgba(115, 203, 79, 0.7)\",\\n    \"Argentinean\": \"rgba(235, 69, 213, 0.7)\",\\n    \"Asian\": \"rgba(191, 49, 24, 0.7)\",\\n    \"Barbecue\": \"rgba(198, 230, 124, 0.7)\",\\n    \"Bar / Lounge / Bottle Service\": \"rgba(60, 16, 252, 0.7)\",\\n    \"Basque\": \"rgba(21, 109, 203, 0.7)\",\\n    \"Belgian\": \"rgba(252, 177, 212, 0.7)\",\\n    \"Bistro\": \"rgba(99, 196, 249, 0.7)\",\\n    \"Brazilian\": \"rgba(165, 102, 137, 0.7)\",\\n    \"Breakfast\": \"rgba(4, 135, 40, 0.7)\",\\n    \"British\": \"rgba(84, 2, 26, 0.7)\",\\n    \"Burgers\": \"rgba(79, 36, 74, 0.7)\",\\n    \"Café\": \"rgba(163, 88, 236, 0.7)\",\\n    \"Cajun\": \"rgba(110, 246, 60, 0.7)\",\\n    \"Caribbean\": \"rgba(128, 123, 241, 0.7)\",\\n    \"Chinese\": \"rgba(129, 8, 127, 0.7)\",\\n    \"Cocktail bar\": \"rgba(253, 16, 50, 0.7)\",\\n    \"Comfort food\": \"rgba(174, 0, 119, 0.7)\",\\n    \"Contemporary American\": \"rgba(97, 25, 215, 0.7)\",\\n    \"Contemporary Asian\": \"rgba(216, 22, 161, 0.7)\",\\n    \"Contemporary French\": \"rgba(5, 66, 190, 0.7)\",\\n    \"Contemporary French / American\": \"rgba(22, 65, 211, 0.7)\",\\n    \"Contemporary Indian\": \"rgba(132, 119, 50, 0.7)\",\\n    \"Contemporary Italian\": \"rgba(97, 92, 163, 0.7)\",\\n    \"Contemporary Mexican\": \"rgba(170, 66, 208, 0.7)\",\\n    \"Continental\": \"rgba(51, 80, 143, 0.7)\",\\n    \"Creole / Cajun / Southern\": \"rgba(181, 104, 33, 0.7)\",\\n    \"Cuban\": \"rgba(126, 56, 196, 0.7)\",\\n    \"Dining bar\": \"rgba(199, 58, 226, 0.7)\",\\n    \"Eastern European\": \"rgba(124, 158, 132, 0.7)\",\\n    \"Egyptian\": \"rgba(108, 251, 66, 0.7)\",\\n    \"European\": \"rgba(245, 136, 252, 0.7)\",\\n    \"Farm-to-table\": \"rgba(9, 185, 19, 0.7)\",\\n    \"Fusion / Eclectic\": \"rgba(110, 84, 118, 0.7)\",\\n    \"Gastro Pub\": \"rgba(208, 143, 60, 0.7)\",\\n    \"Georgian\": \"rgba(136, 119, 219, 0.7)\",\\n    \"German\": \"rgba(249, 168, 244, 0.7)\",\\n    \"Greek\": \"rgba(85, 180, 154, 0.7)\",\\n    \"Indian\": \"rgba(62, 47, 142, 0.7)\",\\n    \"International\": \"rgba(70, 67, 1, 0.7)\",\\n    \"Irish\": \"rgba(11, 132, 38, 0.7)\",\\n    \"Izakaya\": \"rgba(109, 100, 123, 0.7)\",\\n    \"Japanese\": \"rgba(4, 74, 41, 0.7)\",\\n    \"Korean\": \"rgba(155, 58, 177, 0.7)\",\\n    \"Kosher\": \"rgba(225, 208, 99, 0.7)\",\\n    \"Laotian\": \"rgba(6, 244, 231, 0.7)\",\\n    \"Latin American\": \"rgba(116, 215, 17, 0.7)\",\\n    \"Lebanese\": \"rgba(0, 53, 183, 0.7)\",\\n    \"Market Cuisine\": \"rgba(90, 192, 131, 0.7)\",\\n    \"Mediterranean\": \"rgba(24, 9, 177, 0.7)\",\\n    \"Mexican\": \"rgba(43, 56, 228, 0.7)\",\\n    \"Middle Eastern\": \"rgba(202, 78, 13, 0.7)\",\\n    \"Modern European\": \"rgba(168, 71, 228, 0.7)\",\\n    \"Pan-Asian\": \"rgba(204, 207, 80, 0.7)\",\\n    \"Pizzeria\": \"rgba(87, 61, 139, 0.7)\",\\n    \"Regional Italian (Sardinia)\": \"rgba(27, 123, 226, 0.7)\",\\n    \"Regional Mexican\": \"rgba(205, 196, 76, 0.7)\",\\n    \"Russian\": \"rgba(55, 37, 48, 0.7)\",\\n    \"Scandinavian\": \"rgba(133, 253, 226, 0.7)\",\\n    \"Seafood\": \"rgba(122, 213, 178, 0.7)\",\\n    \"Sicilian\": \"rgba(178, 140, 208, 0.7)\",\\n    \"Southeast Asian\": \"rgba(248, 19, 55, 0.7)\",\\n    \"Southern\": \"rgba(163, 71, 174, 0.7)\",\\n    \"Spanish\": \"rgba(219, 168, 54, 0.7)\",\\n    \"Sports Bar\": \"rgba(60, 163, 22, 0.7)\",\\n    \"Steak\": \"rgba(213, 41, 96, 0.7)\",\\n    \"Steakhouse\": \"rgba(69, 185, 101, 0.7)\",\\n    \"Sushi\": \"rgba(94, 131, 147, 0.7)\",\\n    \"Swiss\": \"rgba(16, 67, 125, 0.7)\",\\n    \"Tapas / Small Plates\": \"rgba(231, 178, 78, 0.7)\",\\n    \"Tex-Mex\": \"rgba(189, 3, 86, 0.7)\",\\n    \"Thaï\": \"rgba(160, 97, 228, 0.7)\",\\n    \"Turkish\": \"rgba(16, 106, 27, 0.7)\",\\n    \"Unspecified\": \"rgba(92, 226, 154, 0.7)\",\\n    \"Vegan\": \"rgba(123, 98, 39, 0.7)\",\\n    \"Vegetarian / Vegan\": \"rgba(32, 76, 142, 0.7)\",\\n    \"Vietnamese\": \"rgba(179, 59, 50, 0.7)\",\\n    \"Wine Bar\": \"rgba(194, 46, 29, 0.7)\",\\n};\\n'"
      ]
     },
     "execution_count": 1,
     "metadata": {},
     "output_type": "execute_result"
    }
   ],
   "source": [
    "from random import randint\n",
    "\n",
    "# Generate a color map for the unique cuisines listed by the user\n",
    "unique_cuisines = [\n",
    "    \"American\", \"Argentinean\", \"Asian\", \"Barbecue\", \"Bar / Lounge / Bottle Service\", \n",
    "    \"Basque\", \"Belgian\", \"Bistro\", \"Brazilian\", \"Breakfast\", \"British\", \"Burgers\", \n",
    "    \"Café\", \"Cajun\", \"Caribbean\", \"Chinese\", \"Cocktail bar\", \"Comfort food\", \"Contemporary American\", \n",
    "    \"Contemporary Asian\", \"Contemporary French\", \"Contemporary French / American\", \"Contemporary Indian\", \n",
    "    \"Contemporary Italian\", \"Contemporary Mexican\", \"Continental\", \"Creole / Cajun / Southern\", \n",
    "    \"Cuban\", \"Dining bar\", \"Eastern European\", \"Egyptian\", \"European\", \"Farm-to-table\", \n",
    "    \"Fusion / Eclectic\", \"Gastro Pub\", \"Georgian\", \"German\", \"Greek\", \"Indian\", \n",
    "    \"International\", \"Irish\", \"Izakaya\", \"Japanese\", \"Korean\", \"Kosher\", \"Laotian\", \n",
    "    \"Latin American\", \"Lebanese\", \"Market Cuisine\", \"Mediterranean\", \"Mexican\", \n",
    "    \"Middle Eastern\", \"Modern European\", \"Pan-Asian\", \"Pizzeria\", \"Regional Italian (Sardinia)\", \n",
    "    \"Regional Mexican\", \"Russian\", \"Scandinavian\", \"Seafood\", \"Sicilian\", \"Southeast Asian\", \n",
    "    \"Southern\", \"Spanish\", \"Sports Bar\", \"Steak\", \"Steakhouse\", \"Sushi\", \n",
    "    \"Swiss\", \"Tapas / Small Plates\", \"Tex-Mex\", \"Thaï\", \"Turkish\", \"Unspecified\", \n",
    "    \"Vegan\", \"Vegetarian / Vegan\", \"Vietnamese\", \"Wine Bar\"\n",
    "]\n",
    "\n",
    "# Generate random colors for each unique cuisine\n",
    "color_map = {cuisine: f\"rgba({randint(0, 255)}, {randint(0, 255)}, {randint(0, 255)}, 0.7)\" for cuisine in unique_cuisines}\n",
    "\n",
    "# Create the JavaScript code snippet\n",
    "js_code = \"const cuisineColorMap = {\\n\"\n",
    "for cuisine, color in color_map.items():\n",
    "    js_code += f'    \"{cuisine}\": \"{color}\",\\n'\n",
    "js_code += \"};\\n\"\n",
    "\n",
    "js_codea"
   ]
  },
  {
   "cell_type": "code",
   "execution_count": 2,
   "id": "27574daa",
   "metadata": {},
   "outputs": [
    {
     "data": {
      "text/plain": [
       "'const cuisineColorMap = {\\n    \"American\": \"rgba(115, 203, 79, 0.7)\",\\n    \"Argentinean\": \"rgba(235, 69, 213, 0.7)\",\\n    \"Asian\": \"rgba(191, 49, 24, 0.7)\",\\n    \"Barbecue\": \"rgba(198, 230, 124, 0.7)\",\\n    \"Bar / Lounge / Bottle Service\": \"rgba(60, 16, 252, 0.7)\",\\n    \"Basque\": \"rgba(21, 109, 203, 0.7)\",\\n    \"Belgian\": \"rgba(252, 177, 212, 0.7)\",\\n    \"Bistro\": \"rgba(99, 196, 249, 0.7)\",\\n    \"Brazilian\": \"rgba(165, 102, 137, 0.7)\",\\n    \"Breakfast\": \"rgba(4, 135, 40, 0.7)\",\\n    \"British\": \"rgba(84, 2, 26, 0.7)\",\\n    \"Burgers\": \"rgba(79, 36, 74, 0.7)\",\\n    \"Café\": \"rgba(163, 88, 236, 0.7)\",\\n    \"Cajun\": \"rgba(110, 246, 60, 0.7)\",\\n    \"Caribbean\": \"rgba(128, 123, 241, 0.7)\",\\n    \"Chinese\": \"rgba(129, 8, 127, 0.7)\",\\n    \"Cocktail bar\": \"rgba(253, 16, 50, 0.7)\",\\n    \"Comfort food\": \"rgba(174, 0, 119, 0.7)\",\\n    \"Contemporary American\": \"rgba(97, 25, 215, 0.7)\",\\n    \"Contemporary Asian\": \"rgba(216, 22, 161, 0.7)\",\\n    \"Contemporary French\": \"rgba(5, 66, 190, 0.7)\",\\n    \"Contemporary French / American\": \"rgba(22, 65, 211, 0.7)\",\\n    \"Contemporary Indian\": \"rgba(132, 119, 50, 0.7)\",\\n    \"Contemporary Italian\": \"rgba(97, 92, 163, 0.7)\",\\n    \"Contemporary Mexican\": \"rgba(170, 66, 208, 0.7)\",\\n    \"Continental\": \"rgba(51, 80, 143, 0.7)\",\\n    \"Creole / Cajun / Southern\": \"rgba(181, 104, 33, 0.7)\",\\n    \"Cuban\": \"rgba(126, 56, 196, 0.7)\",\\n    \"Dining bar\": \"rgba(199, 58, 226, 0.7)\",\\n    \"Eastern European\": \"rgba(124, 158, 132, 0.7)\",\\n    \"Egyptian\": \"rgba(108, 251, 66, 0.7)\",\\n    \"European\": \"rgba(245, 136, 252, 0.7)\",\\n    \"Farm-to-table\": \"rgba(9, 185, 19, 0.7)\",\\n    \"Fusion / Eclectic\": \"rgba(110, 84, 118, 0.7)\",\\n    \"Gastro Pub\": \"rgba(208, 143, 60, 0.7)\",\\n    \"Georgian\": \"rgba(136, 119, 219, 0.7)\",\\n    \"German\": \"rgba(249, 168, 244, 0.7)\",\\n    \"Greek\": \"rgba(85, 180, 154, 0.7)\",\\n    \"Indian\": \"rgba(62, 47, 142, 0.7)\",\\n    \"International\": \"rgba(70, 67, 1, 0.7)\",\\n    \"Irish\": \"rgba(11, 132, 38, 0.7)\",\\n    \"Izakaya\": \"rgba(109, 100, 123, 0.7)\",\\n    \"Japanese\": \"rgba(4, 74, 41, 0.7)\",\\n    \"Korean\": \"rgba(155, 58, 177, 0.7)\",\\n    \"Kosher\": \"rgba(225, 208, 99, 0.7)\",\\n    \"Laotian\": \"rgba(6, 244, 231, 0.7)\",\\n    \"Latin American\": \"rgba(116, 215, 17, 0.7)\",\\n    \"Lebanese\": \"rgba(0, 53, 183, 0.7)\",\\n    \"Market Cuisine\": \"rgba(90, 192, 131, 0.7)\",\\n    \"Mediterranean\": \"rgba(24, 9, 177, 0.7)\",\\n    \"Mexican\": \"rgba(43, 56, 228, 0.7)\",\\n    \"Middle Eastern\": \"rgba(202, 78, 13, 0.7)\",\\n    \"Modern European\": \"rgba(168, 71, 228, 0.7)\",\\n    \"Pan-Asian\": \"rgba(204, 207, 80, 0.7)\",\\n    \"Pizzeria\": \"rgba(87, 61, 139, 0.7)\",\\n    \"Regional Italian (Sardinia)\": \"rgba(27, 123, 226, 0.7)\",\\n    \"Regional Mexican\": \"rgba(205, 196, 76, 0.7)\",\\n    \"Russian\": \"rgba(55, 37, 48, 0.7)\",\\n    \"Scandinavian\": \"rgba(133, 253, 226, 0.7)\",\\n    \"Seafood\": \"rgba(122, 213, 178, 0.7)\",\\n    \"Sicilian\": \"rgba(178, 140, 208, 0.7)\",\\n    \"Southeast Asian\": \"rgba(248, 19, 55, 0.7)\",\\n    \"Southern\": \"rgba(163, 71, 174, 0.7)\",\\n    \"Spanish\": \"rgba(219, 168, 54, 0.7)\",\\n    \"Sports Bar\": \"rgba(60, 163, 22, 0.7)\",\\n    \"Steak\": \"rgba(213, 41, 96, 0.7)\",\\n    \"Steakhouse\": \"rgba(69, 185, 101, 0.7)\",\\n    \"Sushi\": \"rgba(94, 131, 147, 0.7)\",\\n    \"Swiss\": \"rgba(16, 67, 125, 0.7)\",\\n    \"Tapas / Small Plates\": \"rgba(231, 178, 78, 0.7)\",\\n    \"Tex-Mex\": \"rgba(189, 3, 86, 0.7)\",\\n    \"Thaï\": \"rgba(160, 97, 228, 0.7)\",\\n    \"Turkish\": \"rgba(16, 106, 27, 0.7)\",\\n    \"Unspecified\": \"rgba(92, 226, 154, 0.7)\",\\n    \"Vegan\": \"rgba(123, 98, 39, 0.7)\",\\n    \"Vegetarian / Vegan\": \"rgba(32, 76, 142, 0.7)\",\\n    \"Vietnamese\": \"rgba(179, 59, 50, 0.7)\",\\n    \"Wine Bar\": \"rgba(194, 46, 29, 0.7)\",\\n};\\n'"
      ]
     },
     "execution_count": 2,
     "metadata": {},
     "output_type": "execute_result"
    }
   ],
   "source": [
    "js_code"
   ]
  }
 ],
 "metadata": {
  "kernelspec": {
   "display_name": "Python 3 (ipykernel)",
   "language": "python",
   "name": "python3"
  },
  "language_info": {
   "codemirror_mode": {
    "name": "ipython",
    "version": 3
   },
   "file_extension": ".py",
   "mimetype": "text/x-python",
   "name": "python",
   "nbconvert_exporter": "python",
   "pygments_lexer": "ipython3",
   "version": "3.10.9"
  }
 },
 "nbformat": 4,
 "nbformat_minor": 5
}
